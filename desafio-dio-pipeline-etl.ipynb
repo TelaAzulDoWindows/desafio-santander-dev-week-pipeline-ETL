{
  "nbformat": 4,
  "nbformat_minor": 0,
  "metadata": {
    "colab": {
      "provenance": []
    },
    "kernelspec": {
      "name": "python3",
      "display_name": "Python 3"
    },
    "language_info": {
      "name": "python"
    }
  },
  "cells": [
    {
      "cell_type": "code",
      "source": [
        "sdw2023_api_url = 'https://sdw-2023-prd.up.railway.app'"
      ],
      "metadata": {
        "id": "SktpSluy78AG"
      },
      "execution_count": 5,
      "outputs": []
    },
    {
      "cell_type": "markdown",
      "source": [
        "Extração"
      ],
      "metadata": {
        "id": "zbH2aLJDQ7wu"
      }
    },
    {
      "cell_type": "code",
      "execution_count": 15,
      "metadata": {
        "colab": {
          "base_uri": "https://localhost:8080/"
        },
        "id": "kVuZFdyk6l77",
        "outputId": "b776e8b3-b76c-4354-83bb-4d7f3e8993a6"
      },
      "outputs": [
        {
          "output_type": "stream",
          "name": "stdout",
          "text": [
            "[5856, 5857, 5858]\n"
          ]
        }
      ],
      "source": [
        "import pandas as pd\n",
        "\n",
        "df = pd.read_csv(\"sdw2023.csv\")\n",
        "user_ids = df['UserID'].tolist()\n",
        "print(user_ids)"
      ]
    },
    {
      "cell_type": "code",
      "source": [
        "import requests\n",
        "import json\n",
        "\n",
        "def get_user(id):\n",
        "  response = requests.get(f'{sdw2023_api_url}/users/{id}')\n",
        "  return response.json() if response.status_code == 200 else None\n",
        "\n",
        "users = [user for id in user_ids if (user := get_user(id)) is not None]\n",
        "print(json.dumps(users, indent=2))"
      ],
      "metadata": {
        "colab": {
          "base_uri": "https://localhost:8080/"
        },
        "id": "m8dyt-Ew8IQe",
        "outputId": "e883d2df-661a-48ce-ea67-d1d317874f25"
      },
      "execution_count": 17,
      "outputs": [
        {
          "output_type": "stream",
          "name": "stdout",
          "text": [
            "[\n",
            "  {\n",
            "    \"id\": 5856,\n",
            "    \"name\": \"Jax\",\n",
            "    \"account\": {\n",
            "      \"id\": 6205,\n",
            "      \"number\": \"4508-7\",\n",
            "      \"agency\": \"0008\",\n",
            "      \"balance\": 0.0,\n",
            "      \"limit\": 500.0\n",
            "    },\n",
            "    \"card\": {\n",
            "      \"id\": 5690,\n",
            "      \"number\": \"**** **** **** 4509\",\n",
            "      \"limit\": 1000.0\n",
            "    },\n",
            "    \"features\": [],\n",
            "    \"news\": []\n",
            "  },\n",
            "  {\n",
            "    \"id\": 5857,\n",
            "    \"name\": \"Sektor\",\n",
            "    \"account\": {\n",
            "      \"id\": 6206,\n",
            "      \"number\": \"4509-7\",\n",
            "      \"agency\": \"0009\",\n",
            "      \"balance\": 0.0,\n",
            "      \"limit\": 600.0\n",
            "    },\n",
            "    \"card\": {\n",
            "      \"id\": 5691,\n",
            "      \"number\": \"**** **** **** 4519\",\n",
            "      \"limit\": 1200.0\n",
            "    },\n",
            "    \"features\": [],\n",
            "    \"news\": []\n",
            "  },\n",
            "  {\n",
            "    \"id\": 5858,\n",
            "    \"name\": \"Syrax\",\n",
            "    \"account\": {\n",
            "      \"id\": 6207,\n",
            "      \"number\": \"4503-7\",\n",
            "      \"agency\": \"0003\",\n",
            "      \"balance\": 0.0,\n",
            "      \"limit\": 700.0\n",
            "    },\n",
            "    \"card\": {\n",
            "      \"id\": 5692,\n",
            "      \"number\": \"**** **** **** 4722\",\n",
            "      \"limit\": 1400.0\n",
            "    },\n",
            "    \"features\": [],\n",
            "    \"news\": []\n",
            "  }\n",
            "]\n"
          ]
        }
      ]
    },
    {
      "cell_type": "code",
      "source": [
        "!pip install openai"
      ],
      "metadata": {
        "colab": {
          "base_uri": "https://localhost:8080/"
        },
        "id": "-jhb9Ulj_Tnd",
        "outputId": "c62c5be2-b838-45c7-a55b-3158ebb337c5"
      },
      "execution_count": 18,
      "outputs": [
        {
          "output_type": "stream",
          "name": "stdout",
          "text": [
            "Requirement already satisfied: openai in /usr/local/lib/python3.10/dist-packages (0.28.1)\n",
            "Requirement already satisfied: requests>=2.20 in /usr/local/lib/python3.10/dist-packages (from openai) (2.31.0)\n",
            "Requirement already satisfied: tqdm in /usr/local/lib/python3.10/dist-packages (from openai) (4.66.1)\n",
            "Requirement already satisfied: aiohttp in /usr/local/lib/python3.10/dist-packages (from openai) (3.8.6)\n",
            "Requirement already satisfied: charset-normalizer<4,>=2 in /usr/local/lib/python3.10/dist-packages (from requests>=2.20->openai) (3.3.0)\n",
            "Requirement already satisfied: idna<4,>=2.5 in /usr/local/lib/python3.10/dist-packages (from requests>=2.20->openai) (3.4)\n",
            "Requirement already satisfied: urllib3<3,>=1.21.1 in /usr/local/lib/python3.10/dist-packages (from requests>=2.20->openai) (2.0.7)\n",
            "Requirement already satisfied: certifi>=2017.4.17 in /usr/local/lib/python3.10/dist-packages (from requests>=2.20->openai) (2023.7.22)\n",
            "Requirement already satisfied: attrs>=17.3.0 in /usr/local/lib/python3.10/dist-packages (from aiohttp->openai) (23.1.0)\n",
            "Requirement already satisfied: multidict<7.0,>=4.5 in /usr/local/lib/python3.10/dist-packages (from aiohttp->openai) (6.0.4)\n",
            "Requirement already satisfied: async-timeout<5.0,>=4.0.0a3 in /usr/local/lib/python3.10/dist-packages (from aiohttp->openai) (4.0.3)\n",
            "Requirement already satisfied: yarl<2.0,>=1.0 in /usr/local/lib/python3.10/dist-packages (from aiohttp->openai) (1.9.2)\n",
            "Requirement already satisfied: frozenlist>=1.1.1 in /usr/local/lib/python3.10/dist-packages (from aiohttp->openai) (1.4.0)\n",
            "Requirement already satisfied: aiosignal>=1.1.2 in /usr/local/lib/python3.10/dist-packages (from aiohttp->openai) (1.3.1)\n"
          ]
        }
      ]
    },
    {
      "cell_type": "code",
      "source": [
        "openai_api_key = '#'"
      ],
      "metadata": {
        "id": "jn2otXJK_iHr"
      },
      "execution_count": 19,
      "outputs": []
    },
    {
      "cell_type": "markdown",
      "source": [
        "Transformação"
      ],
      "metadata": {
        "id": "E0G5LA1pRHFq"
      }
    },
    {
      "cell_type": "code",
      "source": [
        "import openai\n",
        "\n",
        "openai.api_key = openai_api_key\n",
        "\n",
        "def generate_ai_news(user):\n",
        "  completion = openai.ChatCompletion.create(\n",
        "    model=\"gpt-3.5-turbo\",\n",
        "    messages=[\n",
        "        {\"role\": \"system\", \"content\": \"Você é um especialista em marketing bancário.\"},\n",
        "        {\"role\": \"user\", \"content\": f\"Crie uma mensagem para{user['name']} sobre a importância dos investimentos (max de 100 caracteres)\"},\n",
        "        #{\"role\": \"assistant\", \"content\": \"The Los Angeles Dodgers won the World Series in 2020.\"},\n",
        "        #{\"role\": \"user\", \"content\": \"Where was it played?\"}\n",
        "    ]\n",
        "  )\n",
        "  return completion.choices[0].message.content.strip('\\\"')\n",
        "\n",
        "for user in users:\n",
        "  news = generate_ai_news(user)\n",
        "  print(news)\n",
        "  user['news'].append({\n",
        "      \"icon\": \"https://digitalinnovationone.github.io/santander-dev-week-2023-api/icons/credit.svg\",\n",
        "      \"description\": news\n",
        "  })\n",
        "\n"
      ],
      "metadata": {
        "id": "WZrzyw9pCRYO"
      },
      "execution_count": null,
      "outputs": []
    },
    {
      "cell_type": "markdown",
      "source": [
        "Carregamento"
      ],
      "metadata": {
        "id": "fBBySfthRQmx"
      }
    },
    {
      "cell_type": "code",
      "source": [
        "def update_user(user):\n",
        "  response = requests.put(f\"{sdw2023_api_url}/users/{user['id']}\", json=user)\n",
        "  return True if response.status_code == 200 else False\n",
        "\n",
        "for user in users:\n",
        "  success = update_user(user)\n",
        "  print(f\"User {user['name']} updated? {success}\")"
      ],
      "metadata": {
        "id": "-G70TPlUHwuG"
      },
      "execution_count": null,
      "outputs": []
    }
  ]
}
